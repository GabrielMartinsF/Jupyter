{
 "cells": [
  {
   "cell_type": "markdown",
   "metadata": {},
   "source": [
    "# Exercícios"
   ]
  },
  {
   "cell_type": "markdown",
   "metadata": {},
   "source": [
    "1. Escreva um algoritmo que imprima na tela: Olá Mundo!"
   ]
  },
  {
   "cell_type": "code",
   "execution_count": 1,
   "metadata": {},
   "outputs": [
    {
     "name": "stdout",
     "output_type": "stream",
     "text": [
      "Olá Mundo!\n"
     ]
    }
   ],
   "source": [
    "print(\"Olá Mundo!\")"
   ]
  },
  {
   "cell_type": "markdown",
   "metadata": {},
   "source": [
    "2. Escreva um programa que imprima seu nome na tela."
   ]
  },
  {
   "cell_type": "code",
   "execution_count": 8,
   "metadata": {},
   "outputs": [
    {
     "name": "stdout",
     "output_type": "stream",
     "text": [
      "Neymar\n"
     ]
    }
   ],
   "source": [
    "print(\"Neymar\")"
   ]
  },
  {
   "cell_type": "markdown",
   "metadata": {},
   "source": [
    "3. O que o código a seguir imprime?\n",
    "\n",
    "```python\n",
    "print(\"*\\n**\\n***\\n****\\n*****\")\n",
    "```"
   ]
  },
  {
   "cell_type": "code",
   "execution_count": null,
   "metadata": {},
   "outputs": [],
   "source": [
    "*\n",
    "**\n",
    "***\n",
    "****\n",
    "*****"
   ]
  },
  {
   "cell_type": "markdown",
   "metadata": {},
   "source": [
    "4. O que aparece na janela do console, quando cada uma das instruções abaixo são executadas, para: x = 2 e y = 3? Execute cada uma das linhas abaixos e, se necessário, faça os devidos ajustes no código.\n",
    "    1. *print(“x = ” + x);*\n",
    "    2. *print(“O valor de x + x é ” + (x + x));*\n",
    "    3. *print(“x = ”);*\n",
    "    4. *print((x + y) + “ = “ + (y + x));*\n"
   ]
  },
  {
   "cell_type": "code",
   "execution_count": null,
   "metadata": {},
   "outputs": [],
   "source": []
  },
  {
   "cell_type": "markdown",
   "metadata": {},
   "source": [
    "5. Escreva um algoritmo que imprima na tela a seguinte mensagem:\n",
    "\n",
    "> A programação é aprendida escrevendo programas - \n",
    "> Brian Kernighan\n"
   ]
  },
  {
   "cell_type": "code",
   "execution_count": 9,
   "metadata": {},
   "outputs": [
    {
     "name": "stdout",
     "output_type": "stream",
     "text": [
      "A programação é aprendida escrevendo programas - Brian Kernighan\n"
     ]
    }
   ],
   "source": [
    "print(\"A programação é aprendida escrevendo programas - Brian Kernighan\")"
   ]
  },
  {
   "cell_type": "markdown",
   "metadata": {},
   "source": [
    "6. Crie um algoritmo que imprima o produto entre os números 25 e 27"
   ]
  },
  {
   "cell_type": "code",
   "execution_count": 4,
   "metadata": {},
   "outputs": [
    {
     "name": "stdout",
     "output_type": "stream",
     "text": [
      "25 26 27\n"
     ]
    }
   ],
   "source": [
    "print(25,26,27)"
   ]
  },
  {
   "cell_type": "markdown",
   "metadata": {},
   "source": [
    "7. Crie um algoritmo que imprima a média aritmética entre os números 4, 12, 15."
   ]
  },
  {
   "cell_type": "code",
   "execution_count": 5,
   "metadata": {},
   "outputs": [
    {
     "name": "stdout",
     "output_type": "stream",
     "text": [
      "10.333333333333334\n"
     ]
    }
   ],
   "source": [
    "media = (4+12+15) / 3\n",
    "print(media)"
   ]
  },
  {
   "cell_type": "markdown",
   "metadata": {},
   "source": [
    "8. Faça um programa que leia um número inteiro e mostre-o na tela da seguinte forma: \n",
    "\n",
    "> O número inteiro digitado foi 4."
   ]
  },
  {
   "cell_type": "code",
   "execution_count": 6,
   "metadata": {},
   "outputs": [
    {
     "name": "stdout",
     "output_type": "stream",
     "text": [
      "O número inteiro digitado foi 1.\n"
     ]
    }
   ],
   "source": [
    "\n",
    "n = int(input('Digite um número inteiro: '))\n",
    "print('O número inteiro digitado foi {}.'.format(n))"
   ]
  },
  {
   "cell_type": "markdown",
   "metadata": {},
   "source": [
    "9. Faça um programa que leia e imprima dois números inteiros na tela."
   ]
  },
  {
   "cell_type": "code",
   "execution_count": 7,
   "metadata": {},
   "outputs": [
    {
     "name": "stdout",
     "output_type": "stream",
     "text": [
      "Os números informados foram 1 e 2\n"
     ]
    }
   ],
   "source": [
    "n1 = int(input('Primeiro número: '))\n",
    "n2 = int(input('Segundo número: '))\n",
    "print('Os números informados foram {} e {}'.format(n1, n2))"
   ]
  },
  {
   "cell_type": "markdown",
   "metadata": {},
   "source": [
    "10. Faça um programa que leia um número inteiro e imprima seu número sucessor e antecessor."
   ]
  },
  {
   "cell_type": "code",
   "execution_count": 8,
   "metadata": {},
   "outputs": [
    {
     "name": "stdout",
     "output_type": "stream",
     "text": [
      "O número antecessor é: 0\n",
      "O número sucessor é: 2\n"
     ]
    }
   ],
   "source": [
    "n = int(input(\"Digite um número inteiro: \"))\n",
    "\n",
    "print('O número antecessor é:', n-1)\n",
    "print('O número sucessor é:', n+1)"
   ]
  },
  {
   "cell_type": "markdown",
   "metadata": {},
   "source": [
    "11. Faça um programa que leia o nome, endereço e telefone de um usuário e imprima na tela."
   ]
  },
  {
   "cell_type": "code",
   "execution_count": null,
   "metadata": {},
   "outputs": [],
   "source": [
    "nome = input('Digite o nome: ')\n",
    "endereco = input('Digite o endereço: ')\n",
    "telefone = input('Digite o telefone: ')\n",
    "\n",
    "print(nome)\n",
    "print(endereco)\n",
    "print(telefone)"
   ]
  },
  {
   "cell_type": "markdown",
   "metadata": {},
   "source": [
    "12. Faça um programa que leia e multiplique dois números inteiros."
   ]
  },
  {
   "cell_type": "code",
   "execution_count": null,
   "metadata": {},
   "outputs": [],
   "source": [
    "n1 = int(input(\"Digite um número: \"))\n",
    "n2 = int(input(\"Digite outro número: \"))\n",
    "\n",
    "print(n1*n2)"
   ]
  },
  {
   "cell_type": "markdown",
   "metadata": {},
   "source": [
    "13. Faça um programa que leia um número real e imprima a terça parte deste número."
   ]
  },
  {
   "cell_type": "code",
   "execution_count": 9,
   "metadata": {},
   "outputs": [
    {
     "name": "stdout",
     "output_type": "stream",
     "text": [
      "0.6666666666666666\n"
     ]
    }
   ],
   "source": [
    "num = float(input('Digite um número: '))\n",
    "\n",
    "resultado = num / 3\n",
    "\n",
    "print(resultado)"
   ]
  },
  {
   "cell_type": "markdown",
   "metadata": {},
   "source": [
    "14. Faça um programa que leia dois números inteiros e imprima o dividendo, divisor, quociente e resto da divisão"
   ]
  },
  {
   "cell_type": "code",
   "execution_count": null,
   "metadata": {},
   "outputs": [],
   "source": [
    "num1 = int(input('Digite o primeiro número:'))\n",
    "num2 = int(input('Digite o segundo número:'))\n",
    "\n",
    "dividendo = num1\n",
    "divisor = num2\n",
    "quociente = num1 // num2\n",
    "resto = num1 % num2\n",
    "\n",
    "print('Dividendo:', dividendo)\n",
    "print('Divisor:', divisor)\n",
    "print('Quociente:', quociente)\n",
    "print('Resto:', resto)"
   ]
  },
  {
   "cell_type": "markdown",
   "metadata": {},
   "source": [
    "15. Escreva um programa que solicite do usuário dois números, e imprima o resultado da soma, subtração, multiplicação e divisão."
   ]
  },
  {
   "cell_type": "code",
   "execution_count": 10,
   "metadata": {},
   "outputs": [
    {
     "name": "stdout",
     "output_type": "stream",
     "text": [
      "A soma é 4.00\n",
      "A subtração é 0.00\n",
      "A multiplicação é 4.00\n",
      "A divisão é 1.00\n"
     ]
    }
   ],
   "source": [
    "num1 = float(input(\"Informe um número: \"))\n",
    "num2 = float(input(\"Informe outro número: \"))\n",
    "\n",
    "soma = num1 + num2\n",
    "subtracao = num1 - num2\n",
    "multiplicacao = num1 * num2\n",
    "divisao = num1 / num2\n",
    "\n",
    "print(\"A soma é %.2f\" %soma)\n",
    "print(\"A subtração é %.2f\" %subtracao)\n",
    "print(\"A multiplicação é %.2f\" %multiplicacao)\n",
    "print(\"A divisão é %.2f\" %divisao)"
   ]
  },
  {
   "cell_type": "markdown",
   "metadata": {},
   "source": [
    "16. Faça um programa que leia quatro números inteiros, calcule e mostre a soma desses números."
   ]
  },
  {
   "cell_type": "code",
   "execution_count": null,
   "metadata": {},
   "outputs": [],
   "source": [
    "num1 = int(input(\"Digite um número: \"))\n",
    "num2 = int(input(\"Digite outro número: \"))\n",
    "num3 = int(input(\"Digite mais um número: \"))\n",
    "num4 = int(input(\"Digite o ultimo número: \"))\n",
    "\n",
    "print(\"A soma dos números digitados é:\", num1 + num2 + num3 + num4)"
   ]
  },
  {
   "cell_type": "markdown",
   "metadata": {},
   "source": [
    "17. Faça um programa que receba três notas, calcule e mostre a média aritmética."
   ]
  },
  {
   "cell_type": "code",
   "execution_count": null,
   "metadata": {},
   "outputs": [],
   "source": [
    "nota1 = float(input(\"Digite a primeira nota: \"))\n",
    "nota2 = float(input(\"Digite a segunda nota: \"))\n",
    "nota3 = float(input(\"Digite a terceira nota: \"))\n",
    "\n",
    "media = (nota1 + nota2 + nota3) / 3\n",
    "\n",
    "\n",
    "print(\"A média aritmética é: \", media)"
   ]
  },
  {
   "cell_type": "markdown",
   "metadata": {},
   "source": [
    "18. Faça um programa que receba três notas e seus respectivos pesos, calcule e mostre a média ponderada."
   ]
  },
  {
   "cell_type": "code",
   "execution_count": null,
   "metadata": {},
   "outputs": [],
   "source": [
    "nota1 = float(input('Digite a primeira nota: '))\n",
    "nota2 = float(input('Digite a segunda nota: '))\n",
    "nota3 = float(input('Digite a terceira nota: '))\n",
    "peso1 = float(input('Digite o peso da primeira nota: '))\n",
    "peso2 = float(input('Digite o peso da segunda nota: '))\n",
    "peso3 = float(input('Digite o peso da terceira nota: '))\n",
    "\n",
    "media_ponderada = ((nota1 * peso1) + (nota2 * peso2) + (nota3 * peso3)) / ((peso1 + peso2 + peso3) / 3)\n",
    "\n",
    "print('A média ponderada é: ', media_ponderada)"
   ]
  },
  {
   "cell_type": "markdown",
   "metadata": {},
   "source": [
    "19. Faça um programa que receba o salário de um funcionário, calcule e mostre o novo salário, sabendo-se que este sofreu um aumento de 25%."
   ]
  },
  {
   "cell_type": "code",
   "execution_count": null,
   "metadata": {},
   "outputs": [],
   "source": [
    "salario = float(input(\"Digite o salário do funcionário: \"))\n",
    "\n",
    "aumento = salario * 0.25\n",
    "\n",
    "novoSalario = salario + aumento\n",
    "\n",
    "print(\"Novo salário: {:.2f}\".format(novoSalario))"
   ]
  },
  {
   "cell_type": "markdown",
   "metadata": {},
   "source": [
    "20. Faça um programa que receba o salário de um funcionário e o percentual de aumento, calcule e mostre o valor do aumento e o novo salário. "
   ]
  },
  {
   "cell_type": "code",
   "execution_count": null,
   "metadata": {},
   "outputs": [],
   "source": [
    "salario = float(input('Digite o salário:'))\n",
    "porcentagem = float(input('Digite a porcentagem do aumento:'))\n",
    "aumento = salario * (porcentagem/100)\n",
    "novo_salario = salario + aumento\n",
    "print('O aumento foi de:' , aumento)\n",
    "print('O novo salário é de:' , novo_salario)"
   ]
  },
  {
   "cell_type": "markdown",
   "metadata": {},
   "source": [
    "21.  Faça um programa que calcule e mostre a área de um triângulo. Sabe-se que: \n",
    "> Área = (base * altura) / 2."
   ]
  },
  {
   "cell_type": "code",
   "execution_count": null,
   "metadata": {},
   "outputs": [],
   "source": [
    "base = int(input(\"Digite o valor da base do triângulo: \"))\n",
    "altura = int(input(\"Digite o valor da altura do triângulo: \"))\n",
    "\n",
    "area = (base * altura) / 2\n",
    "\n",
    "print(\"A área do triângulo é:\", area)"
   ]
  },
  {
   "cell_type": "markdown",
   "metadata": {},
   "source": [
    "22. Escreva um programa que receba como entrada o raio de um círculo e imprima o diâmetro, a circunferência e a área. Para isso, utilize as fórmulas: diâmetro = 2r; circunferência = 2πr, área = πr²."
   ]
  },
  {
   "cell_type": "code",
   "execution_count": null,
   "metadata": {},
   "outputs": [],
   "source": [
    "raio = float(input('Digite o raio do círculo: '))\n",
    "\n",
    "diametro = 2 * raio\n",
    "\n",
    "circunferencia = 2 * 3.14 * raio\n",
    "\n",
    "area = 3.14 * (raio ** 2)\n",
    "\n",
    "print(f'Diametro: {diametro}')\n",
    "print(f'Circunferencia: {circunferencia}')\n",
    "print(f'Area: {area}')"
   ]
  },
  {
   "cell_type": "markdown",
   "metadata": {},
   "source": [
    "23. Faça um programa que receba um número positivo e maior que zero, calcule e mostre:\n",
    "    1. o número digitado ao quadrado;\n",
    "    2. o número digitado ao cubo;\n",
    "    3. a raiz quadrada do número digitado."
   ]
  },
  {
   "cell_type": "code",
   "execution_count": null,
   "metadata": {},
   "outputs": [],
   "source": [
    "numero = float(input(\"Digite um número positivo: \"))\n",
    "\n",
    "if numero > 0:\n",
    "    quad = numero * numero\n",
    "    cubo = quad * numero\n",
    "    raiz = numero**(1/2)\n",
    "    print(f\"O número digitado ao quadrado é {quad}\")\n",
    "    print(f\"O número digitado ao cubo é {cubo}\")\n",
    "    print(f\"A raiz quadrada do número digitado é {raiz}\")\n",
    "else:\n",
    "    print(\"O número digitado não é positivo.\")"
   ]
  },
  {
   "cell_type": "markdown",
   "metadata": {},
   "source": [
    "24. Faça um programa que receba dois números maiores que zero, calcule e mostre um elevado ao outro."
   ]
  },
  {
   "cell_type": "code",
   "execution_count": 11,
   "metadata": {},
   "outputs": [
    {
     "name": "stdout",
     "output_type": "stream",
     "text": [
      "O resultado é: 4\n"
     ]
    }
   ],
   "source": [
    "\n",
    "numero1 = int(input(\"Digite um número: \"))\n",
    "numero2 = int(input(\"Digite outro número: \"))\n",
    "\n",
    "if numero1 > 0 and numero2 > 0:\n",
    "    expoente = numero1 ** numero2\n",
    "    print(f\"O resultado é: {expoente}\")\n",
    "else:\n",
    "    print(\"Os números digitados devem ser maiores que zero!!!\")"
   ]
  },
  {
   "cell_type": "markdown",
   "metadata": {},
   "source": [
    "25. Sabe-se que: pé = 12 polegadas; 1 jarda = 3 pés e 1 milha = 1,760 jarda. Faça um programa que receba uma medida em pés, faça as conversões a seguir e mostre os resultados.\n",
    "    1. polegadas;\n",
    "    2. jardas;\n",
    "    3. milhas."
   ]
  },
  {
   "cell_type": "code",
   "execution_count": null,
   "metadata": {},
   "outputs": [],
   "source": [
    "polegadas = float(input('Digite o valor em pés: '))\n",
    "\n",
    "jardas = (polegadas / 12) / 3\n",
    "milhas = jardas / 1.760\n",
    "\n",
    "print('O valor em polegadas é {}'.format(polegadas))\n",
    "print('O valor em jardas é {}'.format(jardas))\n",
    "print('O valor em milhas é {}'.format(milhas))"
   ]
  },
  {
   "cell_type": "markdown",
   "metadata": {},
   "source": [
    "26. Escreva um programa que receba como entrada um número de 5 dígitos, separe o número em dígitos individuais e os imprima separados por 3 espaços cada um. Por exemplo, se o usuário digitar 42339, o programa deverá imprimir: 4    2    3    3.   Dica: utilize as operações de divisão e módulo para extrair cada dígito do número."
   ]
  },
  {
   "cell_type": "code",
   "execution_count": 15,
   "metadata": {},
   "outputs": [
    {
     "name": "stdout",
     "output_type": "stream",
     "text": [
      "5   6   5   6   5\n"
     ]
    }
   ],
   "source": [
    "num=int(input(\"Digite um número de 5 dígitos:\"))\n",
    "d1=num//10000\n",
    "d2=(num%10000)//1000\n",
    "d3=(num%1000)//100\n",
    "d4=(num%100)//10\n",
    "d5=num%10\n",
    "\n",
    "print(\"{}   {}   {}   {}   {}\".format(d1,d2,d3,d4,d5))"
   ]
  },
  {
   "cell_type": "markdown",
   "metadata": {},
   "source": [
    "27.  A nota final de um estudante é calculada a partir de três notas atribuídas, respectivamente, a um trabalho\n",
    "de laboratório, a uma avaliação semestral e a um exame final. A média das três notas mencionadas\n",
    "obedece aos pesos a seguir:\n",
    "\n",
    "| Nota                    | Peso |\n",
    "|-------------------------|------|\n",
    "| Trabalho de Laboratório | 2    |\n",
    "| Avaliação Semestral     | 3    |\n",
    "| Exame Final             | 5    |\n",
    "\n",
    "\n",
    "Faça um programa que receba as três notas, calcule e mostre a média ponderada e o conceito que segue\n",
    "a tabela:\n",
    "\n",
    "| Média Ponderada        | Conceito |\n",
    "|------------------------|----------|\n",
    "| 8,00 <= Média <= 10,00 | A        |\n",
    "| 7,00 <= Média < 8,00   | B        |\n",
    "| 6,00 <= Média < 7,00   | C        |\n",
    "| 5,00 <= Média < 6,00   | D        |\n",
    "| 0,00 <= Média < 5,00   | E        |"
   ]
  },
  {
   "cell_type": "code",
   "execution_count": 7,
   "metadata": {},
   "outputs": [
    {
     "name": "stdout",
     "output_type": "stream",
     "text": [
      "\n",
      "Calculo Media Ponderada\n",
      "\n",
      "Conceito: A\n"
     ]
    }
   ],
   "source": [
    "print(\"\\nCalculo Media Ponderada\")\n",
    "\n",
    "n1 = float(input(\"\\nDigite a primeira nota: \"))\n",
    "n2 = float(input(\"Digite a segunda nota: \"))\n",
    "n3 = float(input(\"Digite a terceira nota: \"))\n",
    "\n",
    "mediaPond = (n1 * 0.2 + n2 * 0.3 + n3 * 0.5)\n",
    "\n",
    "if mediaPond >= 8:\n",
    "    conceito = 'A'\n",
    "elif mediaPond >= 7 and mediaPond < 8:\n",
    "    conceito = 'B'\n",
    "elif mediaPond >= 6 and mediaPond < 7:\n",
    "    conceito = 'C'\n",
    "elif mediaPond >= 5 and mediaPond < 6:\n",
    "    conceito = 'D'\n",
    "else:\n",
    "    conceito = 'E'\n",
    "\n",
    "print(\"\\nConceito: {}\".format(conceito))"
   ]
  },
  {
   "cell_type": "markdown",
   "metadata": {},
   "source": [
    "28. Faça um programa que receba três notas de um aluno, calcule e mostre a média aritmética e a mensagem constante na tabela a seguir. \n",
    "\n",
    "| Média                  | Situação       |\n",
    "|------------------------|----------------|\n",
    "| 7,00 <= Média <= 10,00 | Aprovado       |\n",
    "| 3,00 <= Média < 7,00   | Exame Especial |\n",
    "| 0,00 <= Média < 3,00   | Reprovado      |"
   ]
  },
  {
   "cell_type": "code",
   "execution_count": 6,
   "metadata": {},
   "outputs": [
    {
     "name": "stdout",
     "output_type": "stream",
     "text": [
      "Aprovado\n"
     ]
    }
   ],
   "source": [
    "n1 = float(input('Digite a primeira nota: '))\n",
    "n2 = float(input('Digite a segunda nota: '))\n",
    "n3 = float(input('Digite a terceira nota: '))\n",
    "\n",
    "media = (n1 + n2 + n3) / 3\n",
    "\n",
    "if (media >= 7) and (media <= 10):\n",
    "    print('Aprovado')\n",
    "elif (media >= 3) and (media < 7):\n",
    "    print('Exame Especial')\n",
    "else:\n",
    "    print('Reprovado')"
   ]
  },
  {
   "cell_type": "markdown",
   "metadata": {},
   "source": [
    "29. Faça um programa para resolver equações do 2º grau.\n",
    "\n",
    "$$\n",
    "a^{2} + bx + c = 0\n",
    "$$\n",
    "\n",
    "\n",
    "Onde x é uma variável, sendo a, b e c constantes, com a ≠ 0 \n",
    "\n",
    "\n",
    "$$\n",
    "\\Delta = b^{2} - 4ac\n",
    "$$\n",
    "\n",
    "$$\n",
    "\\Delta < 0 \\rightarrow não \\: existe  \\: raiz  \\: real\n",
    "$$\n",
    "\n",
    "$$\n",
    "\\Delta = 0 \\rightarrow  existe  \\: raiz  \\: real\n",
    "$$\n",
    "\n",
    "$$\n",
    "x = \\frac{-b}{2a}\n",
    "$$\n",
    "\n",
    "\n",
    "\n",
    "$$\n",
    "\\Delta > 0 \\rightarrow existem \\: duas  \\: raizes  \\: reais\n",
    "$$\n",
    "\n",
    "\n",
    "$$\n",
    "x_1 = \\frac{-b \\: + \\: \\sqrt{\\Delta } }{2a}\n",
    "$$\n",
    "\n",
    "$$\n",
    "x_2 = \\frac{-b \\: - \\: \\sqrt{\\Delta } }{2a}\n",
    "$$"
   ]
  },
  {
   "cell_type": "code",
   "execution_count": 16,
   "metadata": {},
   "outputs": [
    {
     "name": "stdout",
     "output_type": "stream",
     "text": [
      "Não existem raizes reais\n"
     ]
    }
   ],
   "source": [
    "a = float(input('Digite o valor de a: '))\n",
    "b = float(input('Digite o valor de b: '))\n",
    "c = float(input('Digite o valor de c: '))\n",
    "\n",
    "delta = b ** 2 - 4 * a * c\n",
    "\n",
    "if delta < 0:\n",
    "    print('Não existem raizes reais')\n",
    "elif delta == 0:\n",
    "    print('Existe uma raiz real')\n",
    "    x = -b / (2 * a)\n",
    "    print('x1 =', x)\n",
    "else:\n",
    "    print('Existem duas raizes reais')\n",
    "    x1 = (-b + delta ** (1/2) ) / (2 * a)\n",
    "    x2 = (-b - delta ** (1/2) ) / (2 * a)\n",
    "    print('x1 =', x1)\n",
    "    print('x2 =', x2)"
   ]
  },
  {
   "cell_type": "markdown",
   "metadata": {},
   "source": [
    "30. Faça um programa que receba vários números, calcule e mostre:\n",
    "\n",
    "    - A soma dos números digitados;\n",
    "    - A quantidade de números digitados;\n",
    "    - A média dos números digitados;\n",
    "    - O maior número digitado;\n",
    "    - O menor número digitado;\n",
    "    - A média dos números pares;\n",
    "    - A porcentagem dos números ímpares entre todos os números digitados.\n",
    "\n",
    "Finalize a entrada de dados com a digitação do número 0."
   ]
  },
  {
   "cell_type": "code",
   "execution_count": null,
   "metadata": {},
   "outputs": [],
   "source": [
    "soma = 0\n",
    "media = 0\n",
    "quantidade = 0\n",
    "maior = 0\n",
    "menor = 0\n",
    "mediaPar = 0\n",
    "quantidadePar = 0\n",
    "quantidadeImpar = 0\n",
    "\n",
    "valor = int(input('Digite um número: '))\n",
    "\n",
    "while valor != 0:\n",
    "    soma = soma + valor\n",
    "    quantidade = quantidade + 1\n",
    "    if valor % 2 == 0:\n",
    "        mediaPar = mediaPar + valor\n",
    "        quantidadePar = quantidadePar + 1\n",
    "    else:\n",
    "        quantidadeImpar = quantidadeImpar + 1\n",
    "    if valor > maior:\n",
    "        maior = valor\n",
    "    if valor < menor or menor == 0:\n",
    "        menor = valor\n",
    "\n",
    "    valor = int(input('Digite um número: '))\n",
    "\n",
    "media = soma / quantidade\n",
    "mediaPar = mediaPar / quantidadePar\n",
    "porcentagemImpar = quantidadeImpar / quantidade * 100\n",
    "\n",
    "print(f'A soma dos números digitados é {soma}')\n",
    "print(f'A quantidade de números digitados é {quantidade}')\n",
    "print(f'A média dos números digitados é {media}')\n",
    "print(f'O maior número digitado foi {maior}')\n",
    "print(f'O menor número digitado foi {menor}')\n",
    "print(f'A média dos números pares é {mediaPar}')\n",
    "print(f'A porcentagem dos números ímpares entre todos os números digitados é de {porcentagemImpar}%')"
   ]
  },
  {
   "cell_type": "markdown",
   "metadata": {},
   "source": [
    "31. Foi realizada uma pesquisa sobre algumas características físicas dos habitantes de uma região. Foram coletados os seguintes dados de cada habitante: sexo, cor dos olhos (A — azuis; ou C — castanhos), cor dos cabelos (L — louros; P — pretos; ou C — castanhos) e idade. Implemente os seguintes métodos:\n",
    "\n",
    "    1. `leia_dados()`: leia esses dados, armazene e retorne os dados em uma lista;\n",
    "    2. `media_idades(dados)`: calcula e retorne a média de idade das pessoas com olhos castanhos e cabelos pretos;\n",
    "    3. `maior_idade(dados)`: determina e retorne a maior idade entre os habitantes;\n",
    "    4. `frequencia_individuos(dados)`: calcula e retorna a quantidade de indivíduos do sexo feminino com idade entre 18 e 35 anos (inclusive) e que tenham olhos azuis e cabelos louros."
   ]
  },
  {
   "cell_type": "code",
   "execution_count": null,
   "metadata": {},
   "outputs": [],
   "source": [
    "def leia_dados():\n",
    "    dados = []\n",
    "    for i in range(4):\n",
    "        nome = input(\"Digite o nome da pessoa: \")\n",
    "        sexo = input(\"Digite o sexo da pessoa: \")\n",
    "        olhos = input(\"Digite a cor dos olhos da pessoa: \")\n",
    "        cabelos = input(\"Digite a cor dos cabelos da pessoa: \")\n",
    "        idade = int(input(\"Digite a idade da pessoa: \"))\n",
    "        dados.append([nome, sexo, olhos, cabelos, idade])\n",
    "    return dados\n",
    "    \n",
    "def media_idades(dados):\n",
    "    soma = 0\n",
    "    cont = 0\n",
    "    for i in range(4):\n",
    "        if(dados[i][2] == \"C\") and (dados[i][3] == \"P\"):\n",
    "            soma += dados[i][4]\n",
    "            cont += 1\n",
    "    if(cont == 0):\n",
    "        return \"Não houve pessoas com olhos castanhos e cabelos pretos\"\n",
    "    else:\n",
    "        return soma/cont\n",
    "        \n",
    "def maior_idade(dados):\n",
    "    maior = dados[0][4]\n",
    "    for i in range(4):\n",
    "        if(dados[i][4] > maior):\n",
    "            maior = dados[i][4]\n",
    "    return maior\n",
    "    \n",
    "def frequencia_individuos(dados):\n",
    "    cont = 0\n",
    "    for i in range(4):\n",
    "        if(dados[i][1] == \"F\") and (dados[i][4] >= 18) and (dados[i][4] <= 35) and (dados[i][2] == \"A\") and (dados[i][3] == \"L\"):\n",
    "            cont += 1\n",
    "    return cont\n",
    "\n",
    "dados = leia_dados()\n",
    "print(media_idades(dados))\n",
    "print(maior_idade(dados))\n",
    "print(frequencia_individuos(dados)) "
   ]
  },
  {
   "cell_type": "markdown",
   "metadata": {},
   "source": [
    "32. Faça o método `analisa_numeros(numeros)` que receba uma lista de números como parâmetro, calcule e mostre:\n",
    "\n",
    "    1. A Soma dos números;\n",
    "    2. A quantidade de números;\n",
    "    3. A média dos números;\n",
    "    4. O maior número;\n",
    "    5. O menor número;\n",
    "    6. A média dos números pares;\n",
    "    7. A porcentagem dos números ímpares entre todos os números da lista."
   ]
  },
  {
   "cell_type": "code",
   "execution_count": 18,
   "metadata": {},
   "outputs": [
    {
     "name": "stdout",
     "output_type": "stream",
     "text": [
      "Soma dos números: 136\n",
      "Quantidade de números: 16\n",
      "Média dos números: 8.5\n",
      "Maior número: 16\n",
      "Menor número: 1\n",
      "Média dos números pares: 9.0\n",
      "Porcentagem dos números ímpares entre todos os números da lista: 50.0\n"
     ]
    }
   ],
   "source": [
    "def analisa_numeros(numeros):\n",
    "    soma = 0\n",
    "    contador = 0\n",
    "    soma_pares = 0\n",
    "    contador_impar = 0\n",
    "    maior = numeros[0]\n",
    "    menor = numeros[0]\n",
    "    for i in numeros:\n",
    "        soma += i\n",
    "        contador += 1\n",
    "        if i % 2 == 0:\n",
    "            soma_pares += i\n",
    "            contador_impar += 1\n",
    "        if i > maior:\n",
    "            maior = i\n",
    "        elif i < menor:\n",
    "            menor = i\n",
    "    media = soma / contador\n",
    "    porcentagem = (contador_impar / contador) * 100\n",
    "    print('Soma dos números: {}' .format(soma))\n",
    "    print('Quantidade de números: {}' .format(contador))\n",
    "    print('Média dos números: {}' .format(media))\n",
    "    print('Maior número: {}' .format(maior))\n",
    "    print('Menor número: {}' .format(menor))\n",
    "    print('Média dos números pares: {}' .format(soma_pares / contador_impar))\n",
    "    print('Porcentagem dos números ímpares entre todos os números da lista: {}' .format(porcentagem))\n",
    "\n",
    "analisa_numeros([1, 2, 3, 4, 5, 6, 7, 8, 9, 10, 11, 12, 13, 14, 15, 16])"
   ]
  },
  {
   "cell_type": "markdown",
   "metadata": {},
   "source": [
    "33. Uma empresa quer transmitir dados pelo telefone, mas está preocupada com a interceptação telefônica. Todos os seus dados são transmitidos  como inteiros de quatro dígitos. Ela pediu para que você escreva um programa que criptografe seus dados, para que eles possam ser transmitidos com mais segurança. Implemente a função `criptogra(numero)` que receba como parâmetro um número inteiro de quatro dígitos e criptografe-o da seguinte forma: \n",
    "\n",
    "    * Substitua cada um dos dígitos do número usando a seguinte fórmula: `(digito +  7) módulo 10`; \n",
    "    * Após a substituição, troque o primeiro dígito pelo terceiro e troque o segundo dígito pelo quarto;\n",
    "    * Retorne o número inteiro criptografado."
   ]
  },
  {
   "cell_type": "code",
   "execution_count": 5,
   "metadata": {},
   "outputs": [
    {
     "name": "stdout",
     "output_type": "stream",
     "text": [
      "189\n"
     ]
    }
   ],
   "source": [
    "def criptogra(numero):\n",
    "    num1 = (numero//1000+7)%10\n",
    "    num2 = (numero%1000//100+7)%10\n",
    "    num3 = (numero%100//10+7)%10\n",
    "    num4 = (numero%10+7)%10\n",
    "\n",
    "    return int(str(num3)+str(num4)+str(num1)+str(num2))\n",
    "\n",
    "print(criptogra(1234))"
   ]
  }
 ],
 "metadata": {
  "kernelspec": {
   "display_name": "Python 3",
   "language": "python",
   "name": "python3"
  },
  "language_info": {
   "codemirror_mode": {
    "name": "ipython",
    "version": 3
   },
   "file_extension": ".py",
   "mimetype": "text/x-python",
   "name": "python",
   "nbconvert_exporter": "python",
   "pygments_lexer": "ipython3",
   "version": "3.7.4"
  }
 },
 "nbformat": 4,
 "nbformat_minor": 4
}
